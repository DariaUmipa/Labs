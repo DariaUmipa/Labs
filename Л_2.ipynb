{
  "nbformat": 4,
  "nbformat_minor": 0,
  "metadata": {
    "colab": {
      "provenance": [],
      "authorship_tag": "ABX9TyM/i+HGcfcBIlpkcwOdKib6",
      "include_colab_link": true
    },
    "kernelspec": {
      "name": "python3",
      "display_name": "Python 3"
    },
    "language_info": {
      "name": "python"
    }
  },
  "cells": [
    {
      "cell_type": "markdown",
      "metadata": {
        "id": "view-in-github",
        "colab_type": "text"
      },
      "source": [
        "<a href=\"https://colab.research.google.com/github/DariaUmipa/Labs/blob/main/%D0%9B_2.ipynb\" target=\"_parent\"><img src=\"https://colab.research.google.com/assets/colab-badge.svg\" alt=\"Open In Colab\"/></a>"
      ]
    },
    {
      "cell_type": "markdown",
      "source": [
        "# Практическая работа 2. Основные конструкции языка"
      ],
      "metadata": {
        "id": "RxLW1URihbop"
      }
    },
    {
      "cell_type": "markdown",
      "source": [
        "Выполнила Суравикина Дарья Группа ПИН-б-о-22-1"
      ],
      "metadata": {
        "id": "rInUVfoihg_I"
      }
    },
    {
      "cell_type": "markdown",
      "source": [
        "# Задание\n",
        "Напишите скрипт для поиска целочисленных элементов, больших 150 в списке, состоящем из элементов произвольного типа. Необходимо вывести количество таких элементов и минимальный из них."
      ],
      "metadata": {
        "id": "rS8rznL8hsv1"
      }
    },
    {
      "cell_type": "markdown",
      "source": [
        "# Решение задачи"
      ],
      "metadata": {
        "id": "SXS4dX8Eh10f"
      }
    },
    {
      "cell_type": "code",
      "source": [
        "# Создаем список из элементов произвольного типа\n",
        "my_list = [100, 'hello', 200, True, 180, 'world', 140, 160]\n",
        "\n",
        "# Инициализируем переменные для подсчета количества и поиска минимального элемента\n",
        "count = 0\n",
        "min_value = float('inf')  # устанавливаем начальное значение как бесконечность\n",
        "\n",
        "# Проходим по элементам списка\n",
        "for element in my_list:\n",
        "    # Проверяем, является ли элемент целым числом и больше ли он 150\n",
        "    if isinstance(element, int) and element > 150:\n",
        "        count += 1  # увеличиваем счетчик\n",
        "        if element < min_value:\n",
        "            min_value = element\n",
        "\n",
        "# Выводим результаты\n",
        "print(\"Количество целых элементов больше 150:\", count)\n",
        "if count > 0:\n",
        "    print(\"Минимальный элемент среди них:\", min_value)\n"
      ],
      "metadata": {
        "colab": {
          "base_uri": "https://localhost:8080/"
        },
        "id": "MMBr-Q6jh6So",
        "outputId": "68e09fbe-ff09-4c5d-e294-62e447575890"
      },
      "execution_count": null,
      "outputs": [
        {
          "output_type": "stream",
          "name": "stdout",
          "text": [
            "Количество целых элементов больше 150: 3\n",
            "Минимальный элемент среди них: 160\n"
          ]
        }
      ]
    }
  ]
}