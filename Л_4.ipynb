{
  "nbformat": 4,
  "nbformat_minor": 0,
  "metadata": {
    "colab": {
      "provenance": [],
      "authorship_tag": "ABX9TyMMgATL9maSR2a/y0E0BraJ",
      "include_colab_link": true
    },
    "kernelspec": {
      "name": "python3",
      "display_name": "Python 3"
    },
    "language_info": {
      "name": "python"
    }
  },
  "cells": [
    {
      "cell_type": "markdown",
      "metadata": {
        "id": "view-in-github",
        "colab_type": "text"
      },
      "source": [
        "<a href=\"https://colab.research.google.com/github/DariaUmipa/Labs/blob/main/%D0%9B_4.ipynb\" target=\"_parent\"><img src=\"https://colab.research.google.com/assets/colab-badge.svg\" alt=\"Open In Colab\"/></a>"
      ]
    },
    {
      "cell_type": "markdown",
      "source": [
        "# Практическая работа 4. Данные в формате CSV\n",
        "ФИО: Суравикина Дарья\n",
        "\n",
        "Группа: ПИН-б-о-22-1"
      ],
      "metadata": {
        "id": "dY3-Zbe9kjnV"
      }
    },
    {
      "cell_type": "markdown",
      "source": [
        "# Задание\n",
        "В файле содержатся сведения о товарах на складе (ID, наименование, поставщик, цена, количество, категория, скидка в %).\n",
        "\n",
        "Определите количество наименований товаров в каждой из 4-х категорий.\n",
        "Вычислите суммарный объем (в валюте) товаров по каждому из 4-х поставщиков, о также по товарам, у которых не указан поставщик.\n",
        "Найдите самый дорогой товар с учетом скидки.\n",
        "Найдите товар с минимальным количеством."
      ],
      "metadata": {
        "id": "W5rWnNDGkwGL"
      }
    },
    {
      "cell_type": "markdown",
      "source": [
        "# Выполнение задания"
      ],
      "metadata": {
        "id": "rOXqMgBZlAFh"
      }
    },
    {
      "cell_type": "code",
      "source": [
        "!wget https://raw.githubusercontent.com/enikolaev/IT-and-Programming/main/data/pract4/p4_data_26.csv"
      ],
      "metadata": {
        "colab": {
          "base_uri": "https://localhost:8080/"
        },
        "id": "2yvXUdBjlEjq",
        "outputId": "602576c0-b3de-4b33-c9a3-5c4285ccd32d"
      },
      "execution_count": null,
      "outputs": [
        {
          "output_type": "stream",
          "name": "stdout",
          "text": [
            "--2025-01-01 20:35:45--  https://raw.githubusercontent.com/enikolaev/IT-and-Programming/main/data/pract4/p4_data_26.csv\n",
            "Resolving raw.githubusercontent.com (raw.githubusercontent.com)... 185.199.108.133, 185.199.109.133, 185.199.110.133, ...\n",
            "Connecting to raw.githubusercontent.com (raw.githubusercontent.com)|185.199.108.133|:443... connected.\n",
            "HTTP request sent, awaiting response... 200 OK\n",
            "Length: 57027 (56K) [text/plain]\n",
            "Saving to: ‘p4_data_26.csv’\n",
            "\n",
            "p4_data_26.csv      100%[===================>]  55.69K  --.-KB/s    in 0.01s   \n",
            "\n",
            "2025-01-01 20:35:46 (4.45 MB/s) - ‘p4_data_26.csv’ saved [57027/57027]\n",
            "\n"
          ]
        }
      ]
    },
    {
      "cell_type": "code",
      "source": [
        "F=open('p4_data_26.csv')\n",
        "n_to_print=10\n",
        "for line in F:\n",
        "  n_to_print-=1\n",
        "  if n_to_print>0:\n",
        "    print(line)"
      ],
      "metadata": {
        "colab": {
          "base_uri": "https://localhost:8080/"
        },
        "id": "y6-OYEnalUkA",
        "outputId": "e4b04c43-888b-4f9b-ecab-621bdcf33e18"
      },
      "execution_count": null,
      "outputs": [
        {
          "output_type": "stream",
          "name": "stdout",
          "text": [
            "ID,Name,Company,Price,Count,Category,discount\n",
            "\n",
            "94-0806214,Snapple Lemon Tea,,$82.36,1,B,44\n",
            "\n",
            "27-6321352,Squid - U - 10 Thailand,Jaromye,$752.21,24,C,6\n",
            "\n",
            "14-2723478,Cheese - Comte,Zoory,$685.24,17,D,49\n",
            "\n",
            "11-9048000,Sugar - Splenda Sweetener,Nestle Std,$239.45,29,B,20\n",
            "\n",
            "97-2973754,Pastry - Chocolate Marble Tea,Jaromye,$99.63,7,B,49\n",
            "\n",
            "73-1103735,Pork - European Side Bacon,Nestle Std,$356.17,3,A,39\n",
            "\n",
            "98-5441874,Salmon Steak - Cohoe 8 Oz,Jaromye,$842.99,1,B,10\n",
            "\n",
            "67-7933343,Flower - Dish Garden,Waka-waka,$578.73,5,A,27\n",
            "\n"
          ]
        }
      ]
    },
    {
      "cell_type": "code",
      "source": [
        "F=open('p4_data_26.csv')\n",
        "header = F.readline().strip().split(',')\n",
        "print(header)\n",
        "print('-'*20)\n",
        "n_to_print=10\n",
        "for line in F:\n",
        "  # производим обработку в любом случае ...\n",
        "  data = line.strip().split(',')\n",
        "  # ... аа печатаем только первые n_to_print\n",
        "  n_to_print-=1\n",
        "  if n_to_print>0:\n",
        "    print(data)"
      ],
      "metadata": {
        "colab": {
          "base_uri": "https://localhost:8080/"
        },
        "id": "0CLSzCOalgdw",
        "outputId": "2b5d127c-d4da-4007-d0da-56cff60a77a4"
      },
      "execution_count": null,
      "outputs": [
        {
          "output_type": "stream",
          "name": "stdout",
          "text": [
            "['ID', 'Name', 'Company', 'Price', 'Count', 'Category', 'discount']\n",
            "--------------------\n",
            "['94-0806214', 'Snapple Lemon Tea', '', '$82.36', '1', 'B', '44']\n",
            "['27-6321352', 'Squid - U - 10 Thailand', 'Jaromye', '$752.21', '24', 'C', '6']\n",
            "['14-2723478', 'Cheese - Comte', 'Zoory', '$685.24', '17', 'D', '49']\n",
            "['11-9048000', 'Sugar - Splenda Sweetener', 'Nestle Std', '$239.45', '29', 'B', '20']\n",
            "['97-2973754', 'Pastry - Chocolate Marble Tea', 'Jaromye', '$99.63', '7', 'B', '49']\n",
            "['73-1103735', 'Pork - European Side Bacon', 'Nestle Std', '$356.17', '3', 'A', '39']\n",
            "['98-5441874', 'Salmon Steak - Cohoe 8 Oz', 'Jaromye', '$842.99', '1', 'B', '10']\n",
            "['67-7933343', 'Flower - Dish Garden', 'Waka-waka', '$578.73', '5', 'A', '27']\n",
            "['60-0094903', 'Smoked Tongue', 'Waka-waka', '$818.93', '50', 'A', '24']\n"
          ]
        }
      ]
    },
    {
      "cell_type": "code",
      "source": [
        "F = open('p4_data_26.csv')\n",
        "header = F.readline().strip().split(',')\n",
        "\n",
        "# список всех товаров\n",
        "all_product = []\n",
        "\n",
        "for line in F:\n",
        "    data = line.strip().split(',')\n",
        "    product = {}  # создаем пустой словарь\n",
        "    for i, key in enumerate(header):  # обходим все заголовки\n",
        "        product[key] = data[i]  # добавляем в словарь ключ:значение\n",
        "\n",
        "    # проверяем, что значение в столбце 'Price' корректное\n",
        "    if len(product['Price']) > 0 and product['Price'][0] == '$':\n",
        "        # некоторые значения придется конвертировать к подходящим типам\n",
        "        product['Price'] = float(product['Price'][1:])\n",
        "        all_product.append(product)  # добавляем товар в список\n",
        "\n",
        "print(all_product[:10])  # напечатаем первые 10 товаров\n",
        "\n",
        "F.close()  # файл больше не нужен"
      ],
      "metadata": {
        "colab": {
          "base_uri": "https://localhost:8080/"
        },
        "id": "d0lqZK9AlnyI",
        "outputId": "3f004759-c23e-44cb-e81c-8e57715fab28"
      },
      "execution_count": null,
      "outputs": [
        {
          "output_type": "stream",
          "name": "stdout",
          "text": [
            "[{'ID': '94-0806214', 'Name': 'Snapple Lemon Tea', 'Company': '', 'Price': 82.36, 'Count': '1', 'Category': 'B', 'discount': '44'}, {'ID': '27-6321352', 'Name': 'Squid - U - 10 Thailand', 'Company': 'Jaromye', 'Price': 752.21, 'Count': '24', 'Category': 'C', 'discount': '6'}, {'ID': '14-2723478', 'Name': 'Cheese - Comte', 'Company': 'Zoory', 'Price': 685.24, 'Count': '17', 'Category': 'D', 'discount': '49'}, {'ID': '11-9048000', 'Name': 'Sugar - Splenda Sweetener', 'Company': 'Nestle Std', 'Price': 239.45, 'Count': '29', 'Category': 'B', 'discount': '20'}, {'ID': '97-2973754', 'Name': 'Pastry - Chocolate Marble Tea', 'Company': 'Jaromye', 'Price': 99.63, 'Count': '7', 'Category': 'B', 'discount': '49'}, {'ID': '73-1103735', 'Name': 'Pork - European Side Bacon', 'Company': 'Nestle Std', 'Price': 356.17, 'Count': '3', 'Category': 'A', 'discount': '39'}, {'ID': '98-5441874', 'Name': 'Salmon Steak - Cohoe 8 Oz', 'Company': 'Jaromye', 'Price': 842.99, 'Count': '1', 'Category': 'B', 'discount': '10'}, {'ID': '67-7933343', 'Name': 'Flower - Dish Garden', 'Company': 'Waka-waka', 'Price': 578.73, 'Count': '5', 'Category': 'A', 'discount': '27'}, {'ID': '60-0094903', 'Name': 'Smoked Tongue', 'Company': 'Waka-waka', 'Price': 818.93, 'Count': '50', 'Category': 'A', 'discount': '24'}, {'ID': '06-9717473', 'Name': 'Dry Ice', 'Company': 'Zoory', 'Price': 337.07, 'Count': '5', 'Category': 'A', 'discount': '8'}]\n"
          ]
        }
      ]
    },
    {
      "cell_type": "code",
      "source": [
        "#Задание 1 Определите количество наименований товаров в каждой из 4-х категорий.\n",
        "\n",
        "# Создадим словарь, в котором будем считать количество товаров в каждой категории\n",
        "category_count = {}\n",
        "\n",
        "# Посчитаем количество товаров в каждой категории\n",
        "for product in all_product:\n",
        "    category = product['Category']\n",
        "    if category in category_count:\n",
        "        category_count[category] += 1\n",
        "    else:\n",
        "        category_count[category] = 1\n",
        "\n",
        "# Выведем количество товаров в каждой категории\n",
        "for category, count in category_count.items():\n",
        "    print(f\"Количество товаров в категории {category}: {count}\")"
      ],
      "metadata": {
        "colab": {
          "base_uri": "https://localhost:8080/"
        },
        "id": "IdD-PsSZl8hx",
        "outputId": "1de29d4e-adf9-47f1-9de6-c1d312025b78"
      },
      "execution_count": null,
      "outputs": [
        {
          "output_type": "stream",
          "name": "stdout",
          "text": [
            "Количество товаров в категории B: 206\n",
            "Количество товаров в категории C: 219\n",
            "Количество товаров в категории D: 208\n",
            "Количество товаров в категории A: 200\n"
          ]
        }
      ]
    },
    {
      "cell_type": "code",
      "source": [
        "#Задание 2 Вычислите суммарный объем (в валюте) товаров по каждому из 4-х поставщиков, о также по товарам, у которых не указан поставщик.\n",
        "\n",
        "# Инициализируем переменные для хранения суммарного объема товаров по каждому поставщику и по товарам без указанного поставщика\n",
        "supplier_1_total = 0\n",
        "supplier_2_total = 0\n",
        "supplier_3_total = 0\n",
        "supplier_4_total = 0\n",
        "no_supplier_total = 0\n",
        "\n",
        "# Вычисляем суммарный объем по каждому поставщику\n",
        "for product in all_product:\n",
        "    if product['Company'] == 'Jaromye':\n",
        "        supplier_1_total += product['Price'] * int(product['Count'])\n",
        "    elif product['Company'] == 'Zoory':\n",
        "        supplier_2_total += product['Price'] * int(product['Count'])\n",
        "    elif product['Company'] == 'Nestle Std':\n",
        "        supplier_3_total += product['Price'] * int(product['Count'])\n",
        "    elif product['Company'] == 'Waka-waka':\n",
        "        supplier_4_total += product['Price'] * int(product['Count'])\n",
        "    else:\n",
        "        no_supplier_total += product['Price'] * int(product['Count'])\n",
        "\n",
        "# Выводим суммарный объем по каждому поставщику и по товарам без указанного поставщика\n",
        "print('Суммарный объем товаров по Jaromye:', supplier_1_total)\n",
        "print('Суммарный объем товаров по Zoory:', supplier_2_total)\n",
        "print('Суммарный объем товаров по Nestle Std:', supplier_3_total)\n",
        "print('Суммарный объем товаров по Waka-waka:', supplier_4_total)\n",
        "print('Суммарный объем товаров без указанного поставщика:', no_supplier_total)"
      ],
      "metadata": {
        "colab": {
          "base_uri": "https://localhost:8080/"
        },
        "id": "zrkAs6c3mY9I",
        "outputId": "3556b362-0bc3-49f8-e98c-7794c9f50c79"
      },
      "execution_count": null,
      "outputs": [
        {
          "output_type": "stream",
          "name": "stdout",
          "text": [
            "Суммарный объем товаров по Jaromye: 2194315.31\n",
            "Суммарный объем товаров по Zoory: 2040037.1800000006\n",
            "Суммарный объем товаров по Nestle Std: 2014175.1999999988\n",
            "Суммарный объем товаров по Waka-waka: 2254710.85\n",
            "Суммарный объем товаров без указанного поставщика: 1143717.9800000002\n"
          ]
        }
      ]
    },
    {
      "cell_type": "code",
      "source": [
        "#Задание 3\n",
        "# Найдите самый дорогой товар с учетом скидки\n",
        "max_price = 0\n",
        "max_discounted_price = 0\n",
        "max_product = {}\n",
        "\n",
        "for product in all_product:\n",
        "    price = product['Price']\n",
        "    discount = float(product['discount'])\n",
        "    discounted_price = price * (1 - discount / 100)\n",
        "\n",
        "    if discounted_price > max_discounted_price:\n",
        "        max_price = price\n",
        "        max_discounted_price = discounted_price\n",
        "        max_product = product\n",
        "\n",
        "print(\"Самый дорогой товар с учетом скидки:\")\n",
        "print(\"ID:\", max_product['ID'])\n",
        "print(\"Наименование:\", max_product['Name'])\n",
        "print(\"Поставщик:\", max_product['Company'])\n",
        "print(\"Цена без скидки:\", max_price)\n",
        "print(\"Цена с учетом скидки:\", max_discounted_price)\n",
        "print(\"Количество:\", max_product['Count'])\n",
        "print(\"Категория:\", max_product['Category'])\n",
        "print(\"Скидка:\", max_product['discount'])"
      ],
      "metadata": {
        "colab": {
          "base_uri": "https://localhost:8080/"
        },
        "id": "2LkspT4NmfZk",
        "outputId": "8580be7b-82bc-4298-f947-2d5d5ec5e051"
      },
      "execution_count": null,
      "outputs": [
        {
          "output_type": "stream",
          "name": "stdout",
          "text": [
            "Самый дорогой товар с учетом скидки:\n",
            "ID: 21-7608633\n",
            "Наименование: Wine - Cotes Du Rhone Parallele\n",
            "Поставщик: Jaromye\n",
            "Цена без скидки: 977.77\n",
            "Цена с учетом скидки: 948.4368999999999\n",
            "Количество: 8\n",
            "Категория: C\n",
            "Скидка: 3\n"
          ]
        }
      ]
    },
    {
      "cell_type": "code",
      "source": [
        "#Задание 4\n",
        "#Найдите товар с минимальным количеством\n",
        "min_quantity = float('inf')\n",
        "product_with_min_quantity = None\n",
        "\n",
        "for product in all_product:\n",
        "    quantity = int(product['Count'])\n",
        "    if quantity < min_quantity:\n",
        "        min_quantity = quantity\n",
        "        product_with_min_quantity = product\n",
        "\n",
        "print(\"Товар с минимальным количеством:\")\n",
        "print(product_with_min_quantity)"
      ],
      "metadata": {
        "colab": {
          "base_uri": "https://localhost:8080/"
        },
        "id": "-dD6zTaknLLb",
        "outputId": "6950b191-22fd-4714-c8a9-845bc5a2dba9"
      },
      "execution_count": null,
      "outputs": [
        {
          "output_type": "stream",
          "name": "stdout",
          "text": [
            "Товар с минимальным количеством:\n",
            "{'ID': '94-0806214', 'Name': 'Snapple Lemon Tea', 'Company': '', 'Price': 82.36, 'Count': '1', 'Category': 'B', 'discount': '44'}\n"
          ]
        }
      ]
    }
  ]
}