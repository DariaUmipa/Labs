{
  "nbformat": 4,
  "nbformat_minor": 0,
  "metadata": {
    "colab": {
      "provenance": [],
      "authorship_tag": "ABX9TyO+GzY+NpPVjQF42VuaSiqP",
      "include_colab_link": true
    },
    "kernelspec": {
      "name": "python3",
      "display_name": "Python 3"
    },
    "language_info": {
      "name": "python"
    }
  },
  "cells": [
    {
      "cell_type": "markdown",
      "metadata": {
        "id": "view-in-github",
        "colab_type": "text"
      },
      "source": [
        "<a href=\"https://colab.research.google.com/github/DariaUmipa/Labs/blob/main/%D0%9B_1.ipynb\" target=\"_parent\"><img src=\"https://colab.research.google.com/assets/colab-badge.svg\" alt=\"Open In Colab\"/></a>"
      ]
    },
    {
      "cell_type": "markdown",
      "source": [
        "# Практическая работа 1. Простейший скрипт Python\n",
        "Выполнила Суравикина Дарья Группа ПИН-б-о-22-1"
      ],
      "metadata": {
        "id": "dxYzfxA4cBKX"
      }
    },
    {
      "cell_type": "markdown",
      "source": [
        "# Задание\n",
        "Напишите скрипт на языке Python для вычисления значения\n",
        "функции: с = g * h + b * q3 - x + y/w\n",
        "\n"
      ],
      "metadata": {
        "id": "SvOaPrBDcWcO"
      }
    },
    {
      "cell_type": "markdown",
      "source": [
        "# Решение\n"
      ],
      "metadata": {
        "id": "9izkdrX2eMgv"
      }
    },
    {
      "cell_type": "code",
      "source": [
        "g=10\n",
        "h=5.5\n",
        "b=7\n",
        "q3=3.5\n",
        "x=11\n",
        "y=8\n",
        "w=4\n",
        "print(\"g = \", g, \", type(g) = \", type(g))\n",
        "print(\"h = \", h, \", type(h) = \", type(h))\n",
        "print(\"b = \", b, \", type(b) = \", type(b))\n",
        "print(\"q3 = \", q3, \", type(q3) = \", type(q3))\n",
        "print(\"x = \", x, \", type(x) = \", type(x))\n",
        "print(\"y = \", y, \", type(y) = \", type(y))\n",
        "print(\"w = \", w, \", type(w) = \", type(w))"
      ],
      "metadata": {
        "colab": {
          "base_uri": "https://localhost:8080/"
        },
        "id": "pIJoTe5_ex02",
        "outputId": "aee6fbec-aef1-4b60-83e9-a06510609cd8"
      },
      "execution_count": null,
      "outputs": [
        {
          "output_type": "stream",
          "name": "stdout",
          "text": [
            "g =  10 , type(g) =  <class 'int'>\n",
            "h =  5.5 , type(h) =  <class 'float'>\n",
            "b =  7 , type(b) =  <class 'int'>\n",
            "q3 =  3.5 , type(q3) =  <class 'float'>\n",
            "x =  11 , type(x) =  <class 'int'>\n",
            "y =  8 , type(y) =  <class 'int'>\n",
            "w =  4 , type(w) =  <class 'int'>\n"
          ]
        }
      ]
    },
    {
      "cell_type": "markdown",
      "source": [
        "# Вычисление выражение, печать результатов"
      ],
      "metadata": {
        "id": "XsfzVj76e7Bm"
      }
    },
    {
      "cell_type": "code",
      "source": [
        "c =  (g*h) + (b*q3) - x + y/w\n",
        "print('c=',c)\n",
        "print('Type of c: ', type(c))"
      ],
      "metadata": {
        "colab": {
          "base_uri": "https://localhost:8080/"
        },
        "id": "QpbMdNfofAo_",
        "outputId": "170fc404-9f07-4ca4-a673-81b440d5a0ba"
      },
      "execution_count": null,
      "outputs": [
        {
          "output_type": "stream",
          "name": "stdout",
          "text": [
            "c= 70.5\n",
            "Type of c:  <class 'float'>\n"
          ]
        }
      ]
    },
    {
      "cell_type": "markdown",
      "source": [
        "# Задание 2\n",
        "Измените скрипт, созданный в ходе выполнения данной практической\n",
        "работы таким образом, чтобы в блокноте Python Notebook выводилась следующая\n",
        "информация:\n",
        "– ФИО студента;\n",
        "– группа студента и шифр специальности;\n",
        "– перечень языков программирования и ИТ-технологий, которые студент\n",
        "считает наиболее перспективными для изучения;\n",
        "– краткое описание личных увлечений, хобби, интересов."
      ],
      "metadata": {
        "id": "Tbu45OohfjFZ"
      }
    },
    {
      "cell_type": "code",
      "source": [
        "print(\"ФИО: Суравикина Дарья Геннадьевна\")\n",
        "print(\"Группа: ПИН-б-о-22-1\")\n",
        "print(\"Шифр специальности: 09.03.03\")\n",
        "print(\"Перечень языков программирования и ИТ-технологий: Python, JavaScript, Machine Learning, DevOps, Cloud Computing\")\n",
        "print(\"Краткое описание личных увлечений, хобби, интересов: Я увлекаюсь рисованием. Люблю читать книги по саморазвитию и смотреть научно-популярные программы. Также увлекаюсь путешествиями и изучением разных культур.\")"
      ],
      "metadata": {
        "colab": {
          "base_uri": "https://localhost:8080/"
        },
        "id": "Yr5Ji5b8f-a4",
        "outputId": "be6525e9-b3dc-4f4d-c767-d27e9686bdc5"
      },
      "execution_count": null,
      "outputs": [
        {
          "output_type": "stream",
          "name": "stdout",
          "text": [
            "ФИО: Суравикина Дарья Геннадьевна\n",
            "Группа: ПИН-б-о-22-1\n",
            "Шифр специальности: 09.03.03\n",
            "Перечень языков программирования и ИТ-технологий: Python, JavaScript, Machine Learning, DevOps, Cloud Computing\n",
            "Краткое описание личных увлечений, хобби, интересов: Я увлекаюсь рисованием. Люблю читать книги по саморазвитию и смотреть научно-популярные программы. Также увлекаюсь путешествиями и изучением разных культур.\n"
          ]
        }
      ]
    }
  ]
}