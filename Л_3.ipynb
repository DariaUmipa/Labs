{
  "nbformat": 4,
  "nbformat_minor": 0,
  "metadata": {
    "colab": {
      "provenance": [],
      "authorship_tag": "ABX9TyMJILwmV0cczX5KtMLCY6dl",
      "include_colab_link": true
    },
    "kernelspec": {
      "name": "python3",
      "display_name": "Python 3"
    },
    "language_info": {
      "name": "python"
    }
  },
  "cells": [
    {
      "cell_type": "markdown",
      "metadata": {
        "id": "view-in-github",
        "colab_type": "text"
      },
      "source": [
        "<a href=\"https://colab.research.google.com/github/DariaUmipa/Labs/blob/main/%D0%9B_3.ipynb\" target=\"_parent\"><img src=\"https://colab.research.google.com/assets/colab-badge.svg\" alt=\"Open In Colab\"/></a>"
      ]
    },
    {
      "cell_type": "markdown",
      "source": [
        "# Практическая работа 3. Обработка данных из файла\n",
        "Выполнила Суравикина Дарья Группа ПИН-б-о-22-1"
      ],
      "metadata": {
        "id": "cNf0FIojix4J"
      }
    },
    {
      "cell_type": "markdown",
      "source": [
        "# Задание\n",
        "В файле data_v2.txt найдите количество чисел (под числом понимается непрерывная последовательность цифр)"
      ],
      "metadata": {
        "id": "jtaxvoLSi_CQ"
      }
    },
    {
      "cell_type": "markdown",
      "source": [
        "# Анализ задания, получение данных\n",
        "Файл data_v2.txt расположен репозитории. Выполним копирование файла в локальное хранилище Google Colab, используя следующую команду:"
      ],
      "metadata": {
        "id": "1_SnXqHzjRgg"
      }
    },
    {
      "cell_type": "code",
      "source": [
        "!wget https://raw.githubusercontent.com/enikolaev/IT-and-Programming/main/data/data_v2.txt"
      ],
      "metadata": {
        "colab": {
          "base_uri": "https://localhost:8080/"
        },
        "id": "H5C4E_swjbpp",
        "outputId": "c87c852a-80a7-4e80-c8e1-e3378af0d747"
      },
      "execution_count": null,
      "outputs": [
        {
          "output_type": "stream",
          "name": "stdout",
          "text": [
            "--2025-01-01 20:28:37--  https://raw.githubusercontent.com/enikolaev/IT-and-Programming/main/data/data_v2.txt\n",
            "Resolving raw.githubusercontent.com (raw.githubusercontent.com)... 185.199.108.133, 185.199.109.133, 185.199.110.133, ...\n",
            "Connecting to raw.githubusercontent.com (raw.githubusercontent.com)|185.199.108.133|:443... connected.\n",
            "HTTP request sent, awaiting response... 200 OK\n",
            "Length: 85775 (84K) [text/plain]\n",
            "Saving to: ‘data_v2.txt’\n",
            "\n",
            "\rdata_v2.txt           0%[                    ]       0  --.-KB/s               \rdata_v2.txt         100%[===================>]  83.76K  --.-KB/s    in 0.002s  \n",
            "\n",
            "2025-01-01 20:28:37 (38.1 MB/s) - ‘data_v2.txt’ saved [85775/85775]\n",
            "\n"
          ]
        }
      ]
    },
    {
      "cell_type": "markdown",
      "source": [
        "# Решение"
      ],
      "metadata": {
        "id": "3-GltLmzkIBD"
      }
    },
    {
      "cell_type": "code",
      "source": [
        "f=open('data_v2.txt')\n",
        "s=f.read().strip()\n",
        "count = 0\n",
        "in_number = False  # Флаг, указывающий, находимся ли мы внутри числа\n",
        "\n",
        "    # Проходим по всем символам в данных\n",
        "for char in s:\n",
        "        if char.isdigit():  # Если символ - цифра\n",
        "            if not in_number:  # Если мы не были внутри числа\n",
        "                in_number = True  # Зашли в число\n",
        "                count += 1  # Увеличиваем счетчик чисел\n",
        "        else:\n",
        "            in_number = False  # Если символ не цифра, выходим из числа\n",
        "\n",
        "print(f\"Количество чисел в файле: {count}\")"
      ],
      "metadata": {
        "id": "0At0c-9wkLr6",
        "outputId": "6989816f-4461-4c52-9211-7f7895157403",
        "colab": {
          "base_uri": "https://localhost:8080/"
        }
      },
      "execution_count": null,
      "outputs": [
        {
          "output_type": "stream",
          "name": "stdout",
          "text": [
            "Количество чисел в файле: 11555\n"
          ]
        }
      ]
    }
  ]
}